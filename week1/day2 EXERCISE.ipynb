{
 "cells": [
  {
   "cell_type": "markdown",
   "id": "d15d8294-3328-4e07-ad16-8a03e9bbfdb9",
   "metadata": {},
   "source": [
    "# Welcome to your first assignment!\n",
    "\n",
    "Instructions are below. Please give this a try, and look in the solutions folder if you get stuck (or feel free to ask me!)"
   ]
  },
  {
   "cell_type": "markdown",
   "id": "ada885d9-4d42-4d9b-97f0-74fbbbfe93a9",
   "metadata": {},
   "source": [
    "<table style=\"margin: 0; text-align: left;\">\n",
    "    <tr>\n",
    "        <td style=\"width: 150px; height: 150px; vertical-align: middle;\">\n",
    "            <img src=\"../resources.jpg\" width=\"150\" height=\"150\" style=\"display: block;\" />\n",
    "        </td>\n",
    "        <td>\n",
    "            <h2 style=\"color:#f71;\">Just before we get to the assignment --</h2>\n",
    "            <span style=\"color:#f71;\">I thought I'd take a second to point you at this page of useful resources for the course. This includes links to all the slides.<br/>\n",
    "            <a href=\"https://edwarddonner.com/2024/11/13/llm-engineering-resources/\">https://edwarddonner.com/2024/11/13/llm-engineering-resources/</a><br/>\n",
    "            Please keep this bookmarked, and I'll continue to add more useful links there over time.\n",
    "            </span>\n",
    "        </td>\n",
    "    </tr>\n",
    "</table>"
   ]
  },
  {
   "cell_type": "markdown",
   "id": "6e9fa1fc-eac5-4d1d-9be4-541b3f2b3458",
   "metadata": {},
   "source": [
    "# HOMEWORK EXERCISE ASSIGNMENT\n",
    "\n",
    "Upgrade the day 1 project to summarize a webpage to use an Open Source model running locally via Ollama rather than OpenAI\n",
    "\n",
    "You'll be able to use this technique for all subsequent projects if you'd prefer not to use paid APIs.\n",
    "\n",
    "**Benefits:**\n",
    "1. No API charges - open-source\n",
    "2. Data doesn't leave your box\n",
    "\n",
    "**Disadvantages:**\n",
    "1. Significantly less power than Frontier Model\n",
    "\n",
    "## Recap on installation of Ollama\n",
    "\n",
    "Simply visit [ollama.com](https://ollama.com) and install!\n",
    "\n",
    "Once complete, the ollama server should already be running locally.  \n",
    "If you visit:  \n",
    "[http://localhost:11434/](http://localhost:11434/)\n",
    "\n",
    "You should see the message `Ollama is running`.  \n",
    "\n",
    "If not, bring up a new Terminal (Mac) or Powershell (Windows) and enter `ollama serve`  \n",
    "And in another Terminal (Mac) or Powershell (Windows), enter `ollama pull llama3.2`  \n",
    "Then try [http://localhost:11434/](http://localhost:11434/) again.\n",
    "\n",
    "If Ollama is slow on your machine, try using `llama3.2:1b` as an alternative. Run `ollama pull llama3.2:1b` from a Terminal or Powershell, and change the code below from `MODEL = \"llama3.2\"` to `MODEL = \"llama3.2:1b\"`"
   ]
  },
  {
   "cell_type": "code",
   "execution_count": 3,
   "id": "4e2a9393-7767-488e-a8bf-27c12dca35bd",
   "metadata": {},
   "outputs": [],
   "source": [
    "# imports\n",
    "\n",
    "import requests\n",
    "from bs4 import BeautifulSoup\n",
    "from IPython.display import Markdown, display"
   ]
  },
  {
   "cell_type": "code",
   "execution_count": 2,
   "id": "29ddd15d-a3c5-4f4e-a678-873f56162724",
   "metadata": {},
   "outputs": [],
   "source": [
    "# Constants\n",
    "\n",
    "OLLAMA_API = \"http://localhost:11434/api/chat\"\n",
    "HEADERS = {\"Content-Type\": \"application/json\"}\n",
    "MODEL = \"llama3.2\""
   ]
  },
  {
   "cell_type": "code",
   "execution_count": 3,
   "id": "dac0a679-599c-441f-9bf2-ddc73d35b940",
   "metadata": {},
   "outputs": [],
   "source": [
    "# Create a messages list using the same format that we used for OpenAI\n",
    "\n",
    "messages = [\n",
    "    {\"role\": \"user\", \"content\": \"Describe some of the business applications of Generative AI\"}\n",
    "]"
   ]
  },
  {
   "cell_type": "code",
   "execution_count": 4,
   "id": "7bb9c624-14f0-4945-a719-8ddb64f66f47",
   "metadata": {},
   "outputs": [],
   "source": [
    "payload = {\n",
    "        \"model\": MODEL,\n",
    "        \"messages\": messages,\n",
    "        \"stream\": False\n",
    "    }"
   ]
  },
  {
   "cell_type": "code",
   "execution_count": 5,
   "id": "479ff514-e8bd-4985-a572-2ea28bb4fa40",
   "metadata": {},
   "outputs": [
    {
     "name": "stderr",
     "output_type": "stream",
     "text": [
      "\u001b[?25lpulling manifest ⠋ \u001b[?25h\u001b[?25l\u001b[2K\u001b[1Gpulling manifest ⠙ \u001b[?25h\u001b[?25l\u001b[2K\u001b[1Gpulling manifest ⠹ \u001b[?25h\u001b[?25l\u001b[2K\u001b[1Gpulling manifest ⠸ \u001b[?25h\u001b[?25l\u001b[2K\u001b[1Gpulling manifest ⠼ \u001b[?25h\u001b[?25l\u001b[2K\u001b[1Gpulling manifest ⠴ \u001b[?25h\u001b[?25l\u001b[2K\u001b[1Gpulling manifest \n",
      "pulling dde5aa3fc5ff... 100% ▕████████████████▏ 2.0 GB                         \n",
      "pulling 966de95ca8a6... 100% ▕████████████████▏ 1.4 KB                         \n",
      "pulling fcc5a6bec9da... 100% ▕████████████████▏ 7.7 KB                         \n",
      "pulling a70ff7e570d9... 100% ▕████████████████▏ 6.0 KB                         \n",
      "pulling 56bb8bd477a5... 100% ▕████████████████▏   96 B                         \n",
      "pulling 34bb5ab01051... 100% ▕████████████████▏  561 B                         \n",
      "verifying sha256 digest \n",
      "writing manifest \u001b[?25h\u001b[?25l\u001b[2K\u001b[1G\u001b[A\u001b[2K\u001b[1G\u001b[A\u001b[2K\u001b[1G\u001b[A\u001b[2K\u001b[1G\u001b[A\u001b[2K\u001b[1G\u001b[A\u001b[2K\u001b[1G\u001b[A\u001b[2K\u001b[1G\u001b[A\u001b[2K\u001b[1G\u001b[A\u001b[2K\u001b[1Gpulling manifest \n",
      "pulling dde5aa3fc5ff... 100% ▕████████████████▏ 2.0 GB                         \n",
      "pulling 966de95ca8a6... 100% ▕████████████████▏ 1.4 KB                         \n",
      "pulling fcc5a6bec9da... 100% ▕████████████████▏ 7.7 KB                         \n",
      "pulling a70ff7e570d9... 100% ▕████████████████▏ 6.0 KB                         \n",
      "pulling 56bb8bd477a5... 100% ▕████████████████▏   96 B                         \n",
      "pulling 34bb5ab01051... 100% ▕████████████████▏  561 B                         \n",
      "verifying sha256 digest \n",
      "writing manifest \n",
      "success \u001b[?25h\n"
     ]
    }
   ],
   "source": [
    "# Let's just make sure the model is loaded\n",
    "\n",
    "!ollama pull llama3.2"
   ]
  },
  {
   "cell_type": "code",
   "execution_count": 6,
   "id": "42b9f644-522d-4e05-a691-56e7658c0ea9",
   "metadata": {},
   "outputs": [
    {
     "name": "stdout",
     "output_type": "stream",
     "text": [
      "Generative AI has numerous business applications across various industries. Here are some examples:\n",
      "\n",
      "1. **Content Generation**: Generative AI can be used to generate high-quality content, such as:\n",
      "\t* Articles and blog posts\n",
      "\t* Social media posts and captions\n",
      "\t* Product descriptions and e-commerce copy\n",
      "\t* Music and audio tracks\n",
      "2. **Image and Video Creation**: Generative AI can create visual content, including:\n",
      "\t* Images (e.g., product images, illustrations)\n",
      "\t* Videos (e.g., explainer videos, promotional clips)\n",
      "\t* 3D models and animations\n",
      "3. **Chatbots and Virtual Assistants**: Generative AI can be used to power chatbots and virtual assistants, enabling them to understand natural language and respond accordingly.\n",
      "4. **Personalization**: Generative AI can help create personalized experiences for customers, such as:\n",
      "\t* Personalized product recommendations\n",
      "\t* Customized marketing messages\n",
      "\t* Tailored customer service interactions\n",
      "5. **Predictive Analytics**: Generative AI can be used to predict customer behavior, identify trends, and forecast future outcomes.\n",
      "6. **Network Analysis**: Generative AI can help analyze complex networks, such as social media networks or supply chains, to identify patterns and connections.\n",
      "7. **Marketing Automation**: Generative AI can automate marketing tasks, such as:\n",
      "\t* Email marketing campaigns\n",
      "\t* Social media posting\n",
      "\t* Lead generation and qualification\n",
      "8. **Customer Service**: Generative AI can help provide 24/7 customer support, answering common questions and resolving simple issues.\n",
      "9. **Product Development**: Generative AI can aid in product development by:\n",
      "\t* Designing new products and prototypes\n",
      "\t* Optimizing product features and performance\n",
      "\t* Predicting market demand and competition\n",
      "10. **Supply Chain Optimization**: Generative AI can help optimize supply chain operations, including inventory management, logistics, and demand forecasting.\n",
      "11. **Financial Analysis**: Generative AI can analyze large datasets to identify trends and predict financial outcomes.\n",
      "12. **Cybersecurity**: Generative AI can be used to detect and prevent cyber threats by analyzing network traffic patterns and identifying anomalies.\n",
      "\n",
      "These are just a few examples of the many business applications of Generative AI. As the technology continues to evolve, we can expect to see even more innovative uses across industries.\n"
     ]
    }
   ],
   "source": [
    "# If this doesn't work for any reason, try the 2 versions in the following cells\n",
    "# And double check the instructions in the 'Recap on installation of Ollama' at the top of this lab\n",
    "# And if none of that works - contact me!\n",
    "\n",
    "response = requests.post(OLLAMA_API, json=payload, headers=HEADERS)\n",
    "print(response.json()['message']['content'])"
   ]
  },
  {
   "cell_type": "markdown",
   "id": "6a021f13-d6a1-4b96-8e18-4eae49d876fe",
   "metadata": {},
   "source": [
    "# Introducing the ollama package\n",
    "\n",
    "And now we'll do the same thing, but using the elegant ollama python package instead of a direct HTTP call.\n",
    "\n",
    "Under the hood, it's making the same call as above to the ollama server running at localhost:11434"
   ]
  },
  {
   "cell_type": "code",
   "execution_count": 7,
   "id": "7745b9c4-57dc-4867-9180-61fa5db55eb8",
   "metadata": {},
   "outputs": [
    {
     "name": "stdout",
     "output_type": "stream",
     "text": [
      "Generative AI has numerous business applications across various industries, including:\n",
      "\n",
      "1. **Content Creation**: Generative AI can be used to generate high-quality content such as articles, social media posts, and product descriptions, reducing the need for human writers and editors.\n",
      "2. **Marketing Automation**: Generative AI can help automate marketing tasks such as email campaigns, ad copywriting, and personalized product recommendations, improving efficiency and customer engagement.\n",
      "3. **Data Analysis**: Generative AI can be used to analyze large datasets, identify patterns, and make predictions, helping businesses gain insights into customer behavior and market trends.\n",
      "4. **Predictive Maintenance**: Generative AI can be used to predict equipment failures and maintenance needs, reducing downtime and increasing overall efficiency in industries such as manufacturing and logistics.\n",
      "5. **Design and Prototyping**: Generative AI can help designers create new product designs, prototypes, and user interfaces, accelerating the design process and improving innovation.\n",
      "6. **Customer Service Chatbots**: Generative AI can be used to power chatbots that provide 24/7 customer support, answering common questions and routing complex issues to human representatives.\n",
      "7. **Personalized Recommendations**: Generative AI can help businesses generate personalized product recommendations based on customer behavior, purchase history, and preferences.\n",
      "8. **Financial Analysis**: Generative AI can be used to analyze financial data, identify trends, and make predictions about market performance, helping investors make informed decisions.\n",
      "9. **Supply Chain Optimization**: Generative AI can help optimize supply chain operations by predicting demand, identifying bottlenecks, and recommending process improvements.\n",
      "10. **Cybersecurity**: Generative AI can be used to detect and respond to cyber threats in real-time, improving incident response times and reducing the risk of data breaches.\n",
      "\n",
      "Some specific examples of business applications of Generative AI include:\n",
      "\n",
      "* Salesforce using generative AI to generate personalized sales messages\n",
      "* LinkedIn using generative AI to power its content generation platform\n",
      "* Google using generative AI to improve search engine results\n",
      "* Amazon using generative AI to personalize product recommendations and customer support\n",
      "\n",
      "These are just a few examples of the many business applications of Generative AI. As the technology continues to evolve, we can expect to see even more innovative applications across various industries.\n"
     ]
    }
   ],
   "source": [
    "import ollama\n",
    "\n",
    "response = ollama.chat(model=MODEL, messages=messages)\n",
    "print(response['message']['content'])"
   ]
  },
  {
   "cell_type": "markdown",
   "id": "a4704e10-f5fb-4c15-a935-f046c06fb13d",
   "metadata": {},
   "source": [
    "## Alternative approach - using OpenAI python library to connect to Ollama"
   ]
  },
  {
   "cell_type": "code",
   "execution_count": null,
   "id": "23057e00-b6fc-4678-93a9-6b31cb704bff",
   "metadata": {},
   "outputs": [],
   "source": [
    "# There's actually an alternative approach that some people might prefer\n",
    "# You can use the OpenAI client python library to call Ollama:\n",
    "\n",
    "from openai import OpenAI\n",
    "ollama_via_openai = OpenAI(base_url='http://localhost:11434/v1', api_key='ollama')\n",
    "\n",
    "response = ollama_via_openai.chat.completions.create(\n",
    "    model=MODEL,\n",
    "    messages=messages\n",
    ")\n",
    "\n",
    "print(response.choices[0].message.content)"
   ]
  },
  {
   "cell_type": "markdown",
   "id": "1622d9bb-5c68-4d4e-9ca4-b492c751f898",
   "metadata": {},
   "source": [
    "# NOW the exercise for you\n",
    "\n",
    "Take the code from day1 and incorporate it here, to build a website summarizer that uses Llama 3.2 running locally instead of OpenAI; use either of the above approaches."
   ]
  },
  {
   "cell_type": "code",
   "execution_count": 5,
   "id": "402d5686-4e76-4110-b65a-b3906c35c0a4",
   "metadata": {},
   "outputs": [
    {
     "name": "stdout",
     "output_type": "stream",
     "text": [
      "# Sumario del Sitio Web Solbisur Energía Solar\n",
      "\n",
      "## Introducción\n",
      "Solbisur es una empresa líder en el sector de las energías renovables en el país. Con más de 25 años de experiencia, ofrece soluciones para diversas necesidades energéticas.\n",
      "\n",
      "### Productos y Servicios\n",
      "\n",
      "*   **Solar Fotovoltaica**: Soluciones fotovoltaicas para hogares y empresas.\n",
      "*   **Autoconsumo y Bombeos solares**: Soluciones para el autoconsumo y la producción de electricidad en naves industriales.\n",
      "*   **Solar Térmica**: Soluciones termal para la calefacción de edificios.\n",
      "\n",
      "### Innovación\n",
      "\n",
      "Solbisur se enfoca en innovar constantemente, desarrollando nuevos productos que mejoran la eficiencia energética y la calidad de vida.\n",
      "\n",
      "### Calidad\n",
      "La empresa garantiza la calidad de sus productos y servicios, cumpliendo con los estándares más altos del mercado.\n",
      "\n",
      "## Noticias y Anuncios\n",
      "\n",
      "*   **Visita a GENERA 2020**: Solbisur asistió a esta feria internacional de energía y medio ambiente para promocionar sus soluciones innovadoras.\n",
      "*   **Verdades y Mentiras sobre el Autoconsumo Fotovoltaico**: La empresa creó una serie de preguntas y respuestas para concienciar sobre las ventajas del autoconsumo fotovoltaico.\n",
      "*   **Coches eléctricos. ¿Apuesta segura?**: Solbisur habló sobre la importancia de los vehículos eléctricos en el futuro sostenible.\n",
      "\n",
      "### Aprovechamiento Energético\n",
      "La empresa ofrece asesoramiento gratuito para ahorrar energía y reducir costos en hogares y empresas.\n",
      "\n",
      "# Enlaces de Interés\n",
      "\n",
      "*   **Términos de uso y política de privacidad**\n",
      "*   **Envíos y Devoluciones**\n",
      "*   **Protección de datos**\n",
      "*   **Política de cookies**\n",
      "\n",
      "### Redes Sociales\n",
      "\n",
      "Solbisur está presente en:\n",
      "\n",
      "*   Facebook\n",
      "# Sumario del Sitio Web Solbisur Energía Solar\n",
      "\n",
      "## Introducción\n",
      "Solbisur es una empresa líder en el sector de las energías renovables en el país. Con más de 25 años de experiencia, ofrece soluciones para diversas necesidades energéticas.\n",
      "\n",
      "### Productos y Servicios\n",
      "\n",
      "*   **Solar Fotovoltaica**: Soluciones fotovoltaicas para hogares y empresas.\n",
      "*   **Autoconsumo y Bombeos solares**: Soluciones para el autoconsumo y la producción de electricidad en naves industriales.\n",
      "*   **Solar Térmica**: Soluciones termal para la calefacción de edificios.\n",
      "\n",
      "### Innovación\n",
      "\n",
      "Solbisur se enfoca en innovar constantemente, desarrollando nuevos productos que mejoran la eficiencia energética y la calidad de vida.\n",
      "\n",
      "### Calidad\n",
      "La empresa garantiza la calidad de sus productos y servicios, cumpliendo con los estándares más altos del mercado.\n",
      "\n",
      "## Noticias y Anuncios\n",
      "\n",
      "*   **Visita a GENERA 2020**: Solbisur asistió a esta feria internacional de energía y medio ambiente para promocionar sus soluciones innovadoras.\n",
      "*   **Verdades y Mentiras sobre el Autoconsumo Fotovoltaico**: La empresa creó una serie de preguntas y respuestas para concienciar sobre las ventajas del autoconsumo fotovoltaico.\n",
      "*   **Coches eléctricos. ¿Apuesta segura?**: Solbisur habló sobre la importancia de los vehículos eléctricos en el futuro sostenible.\n",
      "\n",
      "### Aprovechamiento Energético\n",
      "La empresa ofrece asesoramiento gratuito para ahorrar energía y reducir costos en hogares y empresas.\n",
      "\n",
      "# Enlaces de Interés\n",
      "\n",
      "*   **Términos de uso y política de privacidad**\n",
      "*   **Envíos y Devoluciones**\n",
      "*   **Protección de datos**\n",
      "*   **Política de cookies**\n",
      "\n",
      "### Redes Sociales\n",
      "\n",
      "Solbisur está presente en:\n",
      "\n",
      "*   Facebook\n"
     ]
    }
   ],
   "source": [
    "import openai\n",
    "import ollama\n",
    "\n",
    "\n",
    "MODEL = \"llama3.2\"\n",
    "\n",
    "class Website:\n",
    "\n",
    "    def __init__(self, url):\n",
    "        \"\"\"\n",
    "        Create this Website object from the given url using the BeautifulSoup library\n",
    "        \"\"\"\n",
    "        self.url = url\n",
    "        self.headers = {\n",
    "        \"User-Agent\": \"Mozilla/5.0 (Windows NT 10.0; Win64; x64) AppleWebKit/537.36 (KHTML, like Gecko) Chrome/117.0.0.0 Safari/537.36\"\n",
    "        } \n",
    "        response = requests.get(url, headers=self.headers)\n",
    "        soup = BeautifulSoup(response.content, 'html.parser')\n",
    "        self.title = soup.title.string if soup.title else \"No title found\"\n",
    "        for irrelevant in soup.body([\"script\", \"style\", \"img\", \"input\"]):\n",
    "            irrelevant.decompose()\n",
    "        self.text = soup.body.get_text(separator=\"\\n\", strip=True)\n",
    "\n",
    "\n",
    "\n",
    "\n",
    "def user_prompt_for(website):\n",
    "    user_prompt = f\"You are looking at a website titled {website.title}\"\n",
    "    user_prompt += \"\\nThe contents of this website is as follows; \\\n",
    "    please provide a short summary of this website in markdown. \\\n",
    "    If it includes news or announcements, then summarize these too.\\n\\n\"\n",
    "    user_prompt += website.text\n",
    "    return user_prompt\n",
    "\n",
    "\n",
    "def messages_for(website):\n",
    "    \n",
    "    system_prompt = \"You are an assistant that analyzes the contents of a website \\\n",
    "    and provides a short summary, ignoring text that might be navigation related. \\\n",
    "    Respond in markdown.\"\n",
    "\n",
    "    return [\n",
    "        {\"role\": \"system\", \"content\": system_prompt},\n",
    "        {\"role\": \"user\", \"content\": user_prompt_for(website)}\n",
    "    ]\n",
    "\n",
    "\n",
    "def summarize(url):\n",
    "    website = Website(url)\n",
    "    # response = openai.chat.completions.create(\n",
    "    #     model = \"gpt-4o-mini\",\n",
    "    #     messages = messages_for(website)\n",
    "    # )\n",
    "    response = ollama.chat(model=MODEL, messages=messages_for(website))\n",
    "    print(response['message']['content'])\n",
    "\n",
    "    return print(response['message']['content'])\n",
    "\n",
    "\n",
    "\n",
    "summarize(\"http://www.solbisur.com\")\n"
   ]
  },
  {
   "cell_type": "code",
   "execution_count": null,
   "id": "267db513",
   "metadata": {},
   "outputs": [],
   "source": [
    "\n",
    "\n",
    "\n",
    "\n",
    "\n"
   ]
  }
 ],
 "metadata": {
  "kernelspec": {
   "display_name": "llms",
   "language": "python",
   "name": "python3"
  },
  "language_info": {
   "codemirror_mode": {
    "name": "ipython",
    "version": 3
   },
   "file_extension": ".py",
   "mimetype": "text/x-python",
   "name": "python",
   "nbconvert_exporter": "python",
   "pygments_lexer": "ipython3",
   "version": "3.11.11"
  }
 },
 "nbformat": 4,
 "nbformat_minor": 5
}
